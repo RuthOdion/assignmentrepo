{
 "cells": [
  {
   "cell_type": "markdown",
   "id": "10d3d0fb",
   "metadata": {},
   "source": [
    "# My Jupyter Notebook on IBM Watson Studio"
   ]
  },
  {
   "cell_type": "markdown",
   "id": "13265056",
   "metadata": {},
   "source": [
    "__Ruth Ailoyafen__"
   ]
  },
  {
   "cell_type": "markdown",
   "id": "64bc8a8d",
   "metadata": {},
   "source": [
    "*I am interested in data science because I want to help companies and organizations make smarter business decisions using data.*"
   ]
  },
  {
   "cell_type": "markdown",
   "id": "34444977",
   "metadata": {},
   "source": [
    "### The code in cell 5 asks the user to enter two numbers as inputs, calculates the sum of two digits and displays the result as output."
   ]
  },
  {
   "cell_type": "code",
   "execution_count": 1,
   "id": "9a80814b",
   "metadata": {},
   "outputs": [
    {
     "name": "stdout",
     "output_type": "stream",
     "text": [
      "Enter first non-negative nuumber e.g 1,2,3: 6\n",
      "Enter second non-negative number e.g 1,2,3: 89\n",
      "The result of  6  +  89  is  95\n"
     ]
    }
   ],
   "source": [
    "Number_1 = int(input(\"Enter first non-negative nuumber e.g 1,2,3: \"))\n",
    "Number_2 = int(input(\"Enter second non-negative number e.g 1,2,3: \"))\n",
    "val = Number_1 + Number_2\n",
    "print(\"The result of \", Number_1, \" + \", Number_2, \" is \" , val)"
   ]
  },
  {
   "cell_type": "markdown",
   "id": "c179282b",
   "metadata": {},
   "source": [
    "---\n",
    "1. Data scientist\n",
    "1. Data analyst\n",
    "1. Data engineer\n",
    "\n",
    "- Data scientist\n",
    "- Data analyst\n",
    "- Data engineer\n",
    "\n"
   ]
  },
  {
   "cell_type": "markdown",
   "id": "f63500bc",
   "metadata": {},
   "source": []
  },
  {
   "cell_type": "code",
   "execution_count": null,
   "id": "8bdb893a",
   "metadata": {},
   "outputs": [],
   "source": []
  }
 ],
 "metadata": {
  "kernelspec": {
   "display_name": "Python 3 (ipykernel)",
   "language": "python",
   "name": "python3"
  },
  "language_info": {
   "codemirror_mode": {
    "name": "ipython",
    "version": 3
   },
   "file_extension": ".py",
   "mimetype": "text/x-python",
   "name": "python",
   "nbconvert_exporter": "python",
   "pygments_lexer": "ipython3",
   "version": "3.9.7"
  }
 },
 "nbformat": 4,
 "nbformat_minor": 5
}
