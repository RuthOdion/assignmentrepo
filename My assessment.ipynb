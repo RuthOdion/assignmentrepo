{
 "cells": [
  {
   "cell_type": "markdown",
   "id": "518fcba3-acc4-4e16-a3c0-95945e426da4",
   "metadata": {},
   "source": [
    "# My Jupyter Notebook on IBM \n"
   ]
  },
  {
   "cell_type": "markdown",
   "id": "fd542d7b-1b54-4f7d-b74d-e2e74728a8c6",
   "metadata": {},
   "source": [
    "*I am interested in data science because I want to help companies and organizations make smarter business decisions using data*"
   ]
  },
  {
   "cell_type": "markdown",
   "id": "3c6bee85-31e8-4228-8d3d-b1450a1b5f59",
   "metadata": {},
   "source": [
    "### The code in cell 5 asks the user to input two digits, calculates the sum of two digits and displays the result as output "
   ]
  },
  {
   "cell_type": "code",
   "execution_count": 5,
   "id": "de9c5f00-887c-4e10-ad67-5a5cc9d8c622",
   "metadata": {},
   "outputs": [
    {
     "name": "stdin",
     "output_type": "stream",
     "text": [
      "Enter first non-negative integer e.g 1,2,3:  5\n",
      "Enter second non-negative integer e.g 1,2,3:  9\n"
     ]
    },
    {
     "name": "stdout",
     "output_type": "stream",
     "text": [
      "The result of  5  +  9  is  14\n"
     ]
    }
   ],
   "source": [
    "Number_1 = int(input(\"Enter first non-negative integer e.g 1,2,3: \"))\n",
    "Number_2 = int(input(\"Enter second non-negative integer e.g 1,2,3: \"))\n",
    "val = Number_1 + Number_2\n",
    "print(\"The result of \", Number_1, \" + \", Number_2, \" is \" , val)"
   ]
  },
  {
   "cell_type": "markdown",
   "id": "ac89d437-5d9d-415b-99bb-191ad8e581c7",
   "metadata": {},
   "source": [
    "***\n",
    "1. Data scientist\n",
    "1. Data analyst\n",
    "1. Data engineer\n",
    "\n",
    "- Data scientist\n",
    "- Data analyst\n",
    "- Data engineer\n"
   ]
  },
  {
   "cell_type": "code",
   "execution_count": null,
   "id": "c55d7f79-87b3-43bb-80db-9b7f79f36197",
   "metadata": {},
   "outputs": [],
   "source": []
  }
 ],
 "metadata": {
  "kernelspec": {
   "display_name": "Python",
   "language": "python",
   "name": "conda-env-python-py"
  },
  "language_info": {
   "codemirror_mode": {
    "name": "ipython",
    "version": 3
   },
   "file_extension": ".py",
   "mimetype": "text/x-python",
   "name": "python",
   "nbconvert_exporter": "python",
   "pygments_lexer": "ipython3",
   "version": "3.7.12"
  }
 },
 "nbformat": 4,
 "nbformat_minor": 5
}
